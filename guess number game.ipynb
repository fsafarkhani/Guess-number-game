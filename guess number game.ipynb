{
 "cells": [
  {
   "cell_type": "code",
   "execution_count": 5,
   "metadata": {},
   "outputs": [
    {
     "name": "stdout",
     "output_type": "stream",
     "text": [
      "mine is bigger\n",
      "mine is smaller\n",
      "mine is bigger\n",
      "mine is bigger\n",
      "mine is bigger\n",
      "mine is bigger\n",
      "mine is smaller\n",
      "mine is smaller\n",
      "mine is smaller\n",
      "mine is smaller\n",
      "mine is smaller\n",
      "mine is smaller\n",
      "mine is smaller\n",
      "mine is bigger\n",
      "mine is bigger\n",
      "mine is bigger\n",
      "mine is bigger\n",
      "WOW you did it 59 that's it\n"
     ]
    }
   ],
   "source": [
    "import random\n",
    "answer = random. randint(1,99)\n",
    "\n",
    "guess= int(input(\"what is your guess:\"))\n",
    "\n",
    "while guess != answer:\n",
    "    if guess > answer:\n",
    "        print(\"mine is smaller\")\n",
    "    else: \n",
    "        print(\"mine is bigger\")\n",
    "    guess= int(input(\"what is your guess:\"))\n",
    "    \n",
    "print(\"WOW you did it\", answer, \"is the answer\")\n",
    "       "
   ]
  }
 ],
 "metadata": {
  "interpreter": {
   "hash": "b3ba2566441a7c06988d0923437866b63cedc61552a5af99d1f4fb67d367b25f"
  },
  "kernelspec": {
   "display_name": "Python 3.8.8 64-bit ('base': conda)",
   "language": "python",
   "name": "python3"
  },
  "language_info": {
   "codemirror_mode": {
    "name": "ipython",
    "version": 3
   },
   "file_extension": ".py",
   "mimetype": "text/x-python",
   "name": "python",
   "nbconvert_exporter": "python",
   "pygments_lexer": "ipython3",
   "version": "3.8.8"
  },
  "orig_nbformat": 4
 },
 "nbformat": 4,
 "nbformat_minor": 2
}
